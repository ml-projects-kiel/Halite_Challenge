{
 "cells": [
  {
   "cell_type": "code",
   "execution_count": 93,
   "id": "817d9773-71df-498e-9958-48ac4f8cf196",
   "metadata": {},
   "outputs": [],
   "source": [
    "import random\n",
    "import numpy as np\n",
    "from kaggle_environments import make\n",
    "from kaggle_environments.envs.halite.helpers import *\n",
    "from numpy import linalg as LA"
   ]
  },
  {
   "cell_type": "code",
   "execution_count": 94,
   "id": "65376425-abe5-4c00-bd2b-6a29b819c5a5",
   "metadata": {},
   "outputs": [],
   "source": [
    "def getDirTo(fromPos: tuple[int, int], toPos: tuple[int, int], size):\n",
    "    fromX, fromY = divmod(fromPos[0], size), divmod(fromPos[1], size)\n",
    "    toX, toY = divmod(toPos[0], size), divmod(toPos[1], size)\n",
    "    if fromY < toY:\n",
    "        return ShipAction.NORTH\n",
    "    if fromY > toY:\n",
    "        return ShipAction.SOUTH\n",
    "    if fromX < toX:\n",
    "        return ShipAction.EAST\n",
    "    if fromX > toX:\n",
    "        return ShipAction.WEST"
   ]
  },
  {
   "cell_type": "code",
   "execution_count": 188,
   "id": "0816e692-5f43-4ed8-b956-525515832729",
   "metadata": {},
   "outputs": [
    {
     "data": {
      "text/plain": [
       "(8, 12)"
      ]
     },
     "execution_count": 188,
     "metadata": {},
     "output_type": "execute_result"
    }
   ],
   "source": [
    "(shipPos[0] + 7, shipPos[1] + 7)"
   ]
  },
  {
   "cell_type": "code",
   "execution_count": 189,
   "id": "d8275a49-facb-431a-949c-af4cc5bfc638",
   "metadata": {},
   "outputs": [],
   "source": [
    "fromX, fromY = divmod(8, 7), divmod(12, 7)\n",
    "toX, toY = divmod(5, 7), divmod(19, 7)"
   ]
  },
  {
   "cell_type": "code",
   "execution_count": 190,
   "id": "cdeccbe8-30f4-4a18-9ca9-0c8f58b84152",
   "metadata": {},
   "outputs": [
    {
     "data": {
      "text/plain": [
       "((1, 1), (1, 5))"
      ]
     },
     "execution_count": 190,
     "metadata": {},
     "output_type": "execute_result"
    }
   ],
   "source": [
    "fromX, fromY"
   ]
  },
  {
   "cell_type": "code",
   "execution_count": 191,
   "id": "f219b42f-c96f-4c6b-a4cd-3e986a360ffe",
   "metadata": {},
   "outputs": [
    {
     "data": {
      "text/plain": [
       "((0, 5), (2, 5))"
      ]
     },
     "execution_count": 191,
     "metadata": {},
     "output_type": "execute_result"
    }
   ],
   "source": [
    "toX, toY"
   ]
  },
  {
   "cell_type": "code",
   "execution_count": 95,
   "id": "9703865c-723f-4172-8416-dca4ff5b5db8",
   "metadata": {},
   "outputs": [],
   "source": [
    "def world_feature(board):\n",
    "    size = board.configuration.size\n",
    "    me = board.current_player\n",
    "\n",
    "    ships = np.zeros((1, size, size))\n",
    "    ship_cargo = np.zeros((1, size, size))\n",
    "    bases = np.zeros((1, size, size))\n",
    "\n",
    "    map_halite = np.array(board.observation[\"halite\"]).reshape(1, size, size) / 1000\n",
    "\n",
    "    for iid, ship in board.ships.items():\n",
    "        ships[0, ship.position[1], ship.position[0]] = 1 if ship.player_id == me.id else -1\n",
    "        ship_cargo[0, ship.position[1], ship.position[0]] = ship.halite / 1000\n",
    "\n",
    "    for iid, yard in board.shipyards.items():\n",
    "        bases[0, yard.position[1], yard.position[0]] = 1 if yard.player_id == me.id else -1\n",
    "\n",
    "    return np.concatenate([map_halite, ships, ship_cargo, bases], axis=0)"
   ]
  },
  {
   "cell_type": "code",
   "execution_count": 217,
   "id": "10eee34e-79bc-4d5d-a9f0-98d2f1686588",
   "metadata": {},
   "outputs": [],
   "source": [
    "def attack(\n",
    "    shipID: str, board: kaggle_environments.envs.halite.helpers.Board, board_array: np.ndarray\n",
    "):\n",
    "    shipPos = [ship.position for iid, ship in board.ships.items() if iid == shipID][0]\n",
    "    bigshipPos = (shipPos[0] + board.configuration.size, shipPos[1] + board.configuration.size)\n",
    "\n",
    "    enemyPos = find_closest_enemy(bigshipPos, board_array)\n",
    "    if enemyPos.shape[0] > 1:\n",
    "        idx = neighboring_ships(enemyPos, board_array, board.configuration.size)\n",
    "    else:\n",
    "        idx = 0\n",
    "    enemyPosTuple = (enemyPos[idx][1], enemyPos[idx][0])\n",
    "    # get the direction to the enemy\n",
    "\n",
    "    direction = getDirTo(bigshipPos, enemyPosTuple, board.configuration.size)\n",
    "    return direction"
   ]
  },
  {
   "cell_type": "code",
   "execution_count": 216,
   "id": "6e22931c-228c-435d-9ed4-38a97dd91ffd",
   "metadata": {},
   "outputs": [],
   "source": [
    "def find_closest_enemy(shipPos: tuple[int, int], board_array: np.ndarray) -> np.ndarray:\n",
    "    my_ship = np.array([shipPos[1], shipPos[0]])\n",
    "\n",
    "    # Create big board\n",
    "    arrays = [board_array[1] for _ in range(3)]\n",
    "    stack_col = np.concatenate(arrays, axis=0)\n",
    "    stack_all = np.concatenate([stack_col for _ in range(3)], axis=1)\n",
    "\n",
    "    enemy_ships = np.argwhere(stack_all == -1)\n",
    "    distances = [LA.norm(my_ship - pos, ord=1) for pos in enemy_ships]\n",
    "    min_index = [idx for idx, dis in enumerate(distances) if dis == min(distances)]\n",
    "    return enemy_ships[min_index]"
   ]
  },
  {
   "cell_type": "code",
   "execution_count": 194,
   "id": "09ba6630-3de7-4aca-b177-c708a964e60a",
   "metadata": {},
   "outputs": [],
   "source": [
    "def neighboring_ships(shipPosS: np.ndarray, board_array: np.ndarray, size: int) -> int:\n",
    "    cargo = board_array[2]\n",
    "    cargo_val = [cargo[ship[0] % size, ship[1] % size] for ship in shipPosS]\n",
    "    max_val = [idx for idx, car in enumerate(cargo_val) if car == max(cargo_val)]\n",
    "    if len(max_val) > 1:\n",
    "        return random.choice(max_val)\n",
    "    else:\n",
    "        return max_val[0]"
   ]
  },
  {
   "cell_type": "code",
   "execution_count": 232,
   "id": "8fa76e0c-fd73-4c68-bf14-86a86a6ff4ac",
   "metadata": {},
   "outputs": [
    {
     "data": {
      "text/plain": [
       "<ShipAction.NORTH: 1>"
      ]
     },
     "execution_count": 232,
     "metadata": {},
     "output_type": "execute_result"
    }
   ],
   "source": [
    "NUM_AGENTS = 4\n",
    "BOARD_SIZE = 7\n",
    "TURNS = 6\n",
    "\n",
    "env = make(\n",
    "    \"halite\",\n",
    "    configuration={\"randomSeed\": 1, \"episodeSteps\": TURNS, \"size\": BOARD_SIZE},\n",
    "    debug=True,\n",
    ")\n",
    "_ = env.reset(num_agents=NUM_AGENTS)\n",
    "\n",
    "# As example take the first frame of the game\n",
    "sample_obs = env.state[0].observation\n",
    "board = Board(sample_obs, env.configuration)\n",
    "\n",
    "board_array = world_feature(board)\n",
    "\n",
    "me = board.current_player\n",
    "attacker_id = [ship.id for ship in me.ships][0]\n",
    "attack(attacker_id, board, board_array)"
   ]
  },
  {
   "cell_type": "code",
   "execution_count": 235,
   "id": "ab9c59c8-5034-46f5-8b3d-f8fb34a41897",
   "metadata": {},
   "outputs": [
    {
     "data": {
      "text/plain": [
       "array([[ 0.,  0.,  0.,  0.,  0.,  0.,  0.],\n",
       "       [ 0., -1.,  0.,  0.,  0., -1.,  0.],\n",
       "       [ 0.,  0.,  0.,  0.,  0.,  0.,  0.],\n",
       "       [ 0.,  0.,  0.,  0.,  0.,  0.,  0.],\n",
       "       [ 0.,  0.,  0.,  0.,  0.,  0.,  0.],\n",
       "       [ 0.,  1.,  0.,  0.,  0., -1.,  0.],\n",
       "       [ 0.,  0.,  0.,  0.,  0.,  0.,  0.]])"
      ]
     },
     "execution_count": 235,
     "metadata": {},
     "output_type": "execute_result"
    }
   ],
   "source": [
    "board_array[1]"
   ]
  },
  {
   "cell_type": "code",
   "execution_count": 155,
   "id": "b0abd3cb-a91e-42df-a4d3-e08045cec5b9",
   "metadata": {},
   "outputs": [
    {
     "data": {
      "text/plain": [
       "array([[19,  5]], dtype=int64)"
      ]
     },
     "execution_count": 155,
     "metadata": {},
     "output_type": "execute_result"
    }
   ],
   "source": [
    "shipPos = [ship.position for iid, ship in board.ships.items() if iid == attacker_id][0]\n",
    "my_ship = np.array([shipPos[1] * board.configuration.size, shipPos[0] * board.configuration.size])\n",
    "# Create big board\n",
    "arrays = [board_array[1] for _ in range(3)]\n",
    "stack_col = np.concatenate(arrays, axis=0)\n",
    "stack_all = np.concatenate([stack_col for _ in range(3)], axis=1)\n",
    "\n",
    "enemy_ships = np.argwhere(stack_all == -1)\n",
    "distances = [LA.norm(my_ship - pos, ord=1) for pos in enemy_ships]\n",
    "min_index = [idx for idx, dis in enumerate(distances) if dis == min(distances)]\n",
    "enemy_ships[min_index]"
   ]
  },
  {
   "cell_type": "code",
   "execution_count": 172,
   "id": "9ff1d264-8e47-4d08-b750-81705976417f",
   "metadata": {},
   "outputs": [
    {
     "data": {
      "text/plain": [
       "1"
      ]
     },
     "execution_count": 172,
     "metadata": {},
     "output_type": "execute_result"
    }
   ],
   "source": [
    "len(enemy_ships[min_index])"
   ]
  },
  {
   "cell_type": "code",
   "execution_count": 176,
   "id": "7ae7f26e-a1c1-46d4-a34d-e8b45283f716",
   "metadata": {},
   "outputs": [],
   "source": [
    "cargo = board_array[2]\n",
    "cargo_val = [cargo[ship[0] % 7, ship[1] % 7] for ship in enemy_ships[min_index]]\n",
    "max_val = [idx for idx, car in enumerate(cargo_val) if car == max(cargo_val)]\n",
    "if len(max_val) > 1:\n",
    "    idx = random.choice(max_val)\n",
    "else:\n",
    "    idx = max_val[0]"
   ]
  },
  {
   "cell_type": "code",
   "execution_count": 179,
   "id": "c2d1695d-87c4-477d-bf5b-4f100b0065bf",
   "metadata": {},
   "outputs": [
    {
     "data": {
      "text/plain": [
       "(5, 19)"
      ]
     },
     "execution_count": 179,
     "metadata": {},
     "output_type": "execute_result"
    }
   ],
   "source": [
    "enemyPosTuple = (enemy_ships[min_index][idx][1], enemy_ships[min_index][idx][0])\n",
    "enemyPosTuple"
   ]
  },
  {
   "cell_type": "code",
   "execution_count": 146,
   "id": "e6ef16d8-c87e-44fe-a0a7-4df76e08716a",
   "metadata": {},
   "outputs": [
    {
     "data": {
      "text/plain": [
       "7"
      ]
     },
     "execution_count": 146,
     "metadata": {},
     "output_type": "execute_result"
    }
   ],
   "source": [
    "board.configuration.size"
   ]
  },
  {
   "cell_type": "code",
   "execution_count": 213,
   "id": "433bd800-a73e-4558-9940-ed8182a51c97",
   "metadata": {},
   "outputs": [
    {
     "data": {
      "text/plain": [
       "array([[ 0.,  0.,  0.,  0.,  0.,  0.,  0.,  0.,  0.],\n",
       "       [ 1.,  0., -1.,  1.,  0., -1.,  1.,  0., -1.],\n",
       "       [ 0.,  0.,  0.,  0.,  0.,  0.,  0.,  0.,  0.],\n",
       "       [ 0.,  0.,  0.,  0.,  0.,  0.,  0.,  0.,  0.],\n",
       "       [ 1.,  0., -1.,  1.,  0., -1.,  1.,  0., -1.],\n",
       "       [ 0.,  0.,  0.,  0.,  0.,  0.,  0.,  0.,  0.],\n",
       "       [ 0.,  0.,  0.,  0.,  0.,  0.,  0.,  0.,  0.],\n",
       "       [ 1.,  0., -1.,  1.,  0., -1.,  1.,  0., -1.],\n",
       "       [ 0.,  0.,  0.,  0.,  0.,  0.,  0.,  0.,  0.]])"
      ]
     },
     "execution_count": 213,
     "metadata": {},
     "output_type": "execute_result"
    }
   ],
   "source": [
    "arrays = [board_array[1] for _ in range(3)]\n",
    "stack_col = np.concatenate(arrays, axis=0)\n",
    "stack_all = np.concatenate([stack_col for _ in range(3)], axis=1)\n",
    "stack_all"
   ]
  },
  {
   "cell_type": "code",
   "execution_count": 214,
   "id": "497f0442-8275-45b0-8d88-96a7cae51811",
   "metadata": {},
   "outputs": [
    {
     "data": {
      "text/plain": [
       "array([[1, 2],\n",
       "       [1, 5],\n",
       "       [1, 8],\n",
       "       [4, 2],\n",
       "       [4, 5],\n",
       "       [4, 8],\n",
       "       [7, 2],\n",
       "       [7, 5],\n",
       "       [7, 8]], dtype=int64)"
      ]
     },
     "execution_count": 214,
     "metadata": {},
     "output_type": "execute_result"
    }
   ],
   "source": [
    "np.argwhere(stack_all == -1)"
   ]
  }
 ],
 "metadata": {
  "kernelspec": {
   "display_name": "Halite",
   "language": "python",
   "name": "halite"
  },
  "language_info": {
   "codemirror_mode": {
    "name": "ipython",
    "version": 3
   },
   "file_extension": ".py",
   "mimetype": "text/x-python",
   "name": "python",
   "nbconvert_exporter": "python",
   "pygments_lexer": "ipython3",
   "version": "3.9.7"
  }
 },
 "nbformat": 4,
 "nbformat_minor": 5
}
