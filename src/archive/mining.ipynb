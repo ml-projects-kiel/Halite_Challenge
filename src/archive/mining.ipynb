{
 "cells": [
  {
   "cell_type": "code",
   "execution_count": 1,
   "metadata": {},
   "outputs": [],
   "source": [
    "import numpy as np\n",
    "import math\n",
    "from kaggle_environments.envs.halite.helpers import *\n",
    "from kaggle_environments import make"
   ]
  },
  {
   "cell_type": "code",
   "execution_count": 2,
   "metadata": {},
   "outputs": [],
   "source": [
    "def world_feature(board):\n",
    "    size = board.configuration.size\n",
    "    me = board.current_player\n",
    "    \n",
    "    ships = np.zeros((1, size, size))\n",
    "    ship_cargo = np.zeros((1, size, size))\n",
    "    bases = np.zeros((1, size, size))\n",
    "\n",
    "    map_halite = np.array(board.observation['halite']).reshape(1, size, size)/1000\n",
    "\n",
    "    for iid, ship in board.ships.items():\n",
    "        ships[0, ship.position[1], ship.position[0]] = 1 if ship.player_id == me.id else -1\n",
    "        ship_cargo[0, ship.position[1], ship.position[0]] = ship.halite/1000\n",
    "\n",
    "    for iid, yard in board.shipyards.items():\n",
    "        bases[0, yard.position[1], yard.position[0]] = 1 if yard.player_id == me.id else -1\n",
    "        \n",
    "    return np.concatenate([\n",
    "        map_halite, \n",
    "        ships, \n",
    "        ship_cargo, \n",
    "        bases\n",
    "    ], axis=0)"
   ]
  },
  {
   "cell_type": "code",
   "execution_count": 3,
   "metadata": {},
   "outputs": [],
   "source": [
    "NUM_AGENTS = 2\n",
    "BOARD_SIZE = 7\n",
    "TURNS = 400\n",
    "\n",
    "env = make('halite', configuration={\"randomSeed\": 1, \"episodeSteps\": TURNS, \"size\": BOARD_SIZE}, debug=True)"
   ]
  },
  {
   "cell_type": "code",
   "execution_count": 4,
   "metadata": {},
   "outputs": [
    {
     "data": {
      "text/plain": [
       "0.0"
      ]
     },
     "execution_count": 4,
     "metadata": {},
     "output_type": "execute_result"
    }
   ],
   "source": [
    "sample_obs = env.state[0].observation\n",
    "board = Board(sample_obs, env.configuration)\n",
    "features = world_feature(board)\n",
    "cargo = features[2]\n",
    "cargo[0][1]"
   ]
  },
  {
   "cell_type": "code",
   "execution_count": 5,
   "metadata": {},
   "outputs": [],
   "source": [
    "def getDirTo(fromPos, toPos, size):\n",
    "    fromX, fromY = divmod(fromPos[0],size), divmod(fromPos[1],size)\n",
    "    toX, toY = divmod(toPos[0],size), divmod(toPos[1],size)\n",
    "    if fromY < toY: return ShipAction.NORTH\n",
    "    if fromY > toY: return ShipAction.SOUTH\n",
    "    if fromX < toX: return ShipAction.EAST\n",
    "    if fromX > toX: return ShipAction.WEST"
   ]
  },
  {
   "cell_type": "code",
   "execution_count": 6,
   "metadata": {},
   "outputs": [],
   "source": [
    "# Find nearest objects to ships\n",
    "def nearestObject(fromPos, positions, size):\n",
    "    fromX, fromY = fromPos\n",
    "    distance = []\n",
    "    for obj, halite in positions:\n",
    "        toX, toY = obj\n",
    "        distance.append(math.sqrt((toX-fromX)**2 + (toY-fromY)**2))\n",
    "    nearest = min(distance)\n",
    "    index = distance.index(nearest)\n",
    "    return positions[index]"
   ]
  },
  {
   "cell_type": "code",
   "execution_count": 8,
   "metadata": {},
   "outputs": [],
   "source": [
    "NUM_AGENTS = 2\n",
    "BOARD_SIZE = 7\n",
    "TURNS = 400\n",
    "\n",
    "env = make('halite', configuration={\"randomSeed\": 1, \"episodeSteps\": TURNS, \"size\": BOARD_SIZE}, debug=True)\n"
   ]
  },
  {
   "cell_type": "code",
   "execution_count": 9,
   "metadata": {},
   "outputs": [],
   "source": [
    "def manhattanDist(X1, Y1, X2, Y2):\n",
    "    dist = math.fabs(X2 - X1) + math.fabs(Y2 - Y1)\n",
    "    return (int)(dist)"
   ]
  },
  {
   "cell_type": "code",
   "execution_count": 10,
   "metadata": {},
   "outputs": [],
   "source": [
    "def get_halite_pos(halite_map):\n",
    "    list_of_pos = []\n",
    "    for i in range(halite_map.shape[0]):\n",
    "        for j in range(halite_map.shape[1]):\n",
    "            element = halite_map[i][j]\n",
    "            if element > 0:\n",
    "                pos_tuple = (i,j, element)\n",
    "                list_of_pos.append(pos_tuple)\n",
    "    return list_of_pos"
   ]
  },
  {
   "cell_type": "code",
   "execution_count": 16,
   "metadata": {},
   "outputs": [
    {
     "data": {
      "text/plain": [
       "[(1, 0, 1.825),\n",
       " (1, 1, 2.281),\n",
       " (1, 3, 0.837),\n",
       " (1, 5, 2.281),\n",
       " (1, 6, 1.825),\n",
       " (2, 0, 0.664),\n",
       " (2, 1, 0.247),\n",
       " (2, 3, 0.058),\n",
       " (2, 5, 0.247),\n",
       " (2, 6, 0.664),\n",
       " (3, 2, 0.026),\n",
       " (3, 3, 0.058),\n",
       " (3, 4, 0.026),\n",
       " (4, 0, 0.664),\n",
       " (4, 1, 0.247),\n",
       " (4, 3, 0.058),\n",
       " (4, 5, 0.247),\n",
       " (4, 6, 0.664),\n",
       " (5, 0, 1.825),\n",
       " (5, 1, 2.281),\n",
       " (5, 3, 0.837),\n",
       " (5, 5, 2.281),\n",
       " (5, 6, 1.825)]"
      ]
     },
     "execution_count": 16,
     "metadata": {},
     "output_type": "execute_result"
    }
   ],
   "source": [
    "halite_map = get_halite_pos(features[0])\n",
    "halite_map"
   ]
  },
  {
   "cell_type": "code",
   "execution_count": 19,
   "metadata": {},
   "outputs": [],
   "source": [
    "def find_halite(ship, halite_map):\n",
    "    distance = []\n",
    "    score = []\n",
    "    halite_score = []\n",
    "    me = board.current_player\n",
    "    for index, tuple in enumerate(halite_map):\n",
    "        score = tuple[2]\n",
    "        distance = manhattanDist(X1=ship.position[0],Y1=ship.position[1],X2= tuple[0], Y2= tuple[1])\n",
    "        result_tuple = (distance,score, tuple[0],tuple[1])\n",
    "        halite_score.append(result_tuple)\n",
    "    return halite_score"
   ]
  },
  {
   "cell_type": "code",
   "execution_count": null,
   "metadata": {},
   "outputs": [],
   "source": [
    "halite = find_halite(,halite_map)\n",
    "halite"
   ]
  },
  {
   "cell_type": "code",
   "execution_count": 52,
   "metadata": {},
   "outputs": [],
   "source": [
    "def calc_best_pos_halite(halite):\n",
    "    result_list = []\n",
    "    print(halite)\n",
    "    for index, tuple in enumerate(halite):\n",
    "        distance = tuple[0]\n",
    "        value = tuple[1]\n",
    "        result = distance * value\n",
    "        new_result = result,tuple[2], tuple[3]\n",
    "        result_list.append(new_result)\n",
    "    min_value = optimize(result_list)\n",
    "    print(min_value)\n",
    "    for index, tuple in enumerate(halite):\n",
    "        #print(f'first {tuple[0]} , second {tuple[1]}')\n",
    "        if tuple[1] == min_value:\n",
    "            pos = tuple[2], tuple[3]\n",
    "    return pos"
   ]
  },
  {
   "cell_type": "code",
   "execution_count": 42,
   "metadata": {},
   "outputs": [],
   "source": [
    "def optimize(value_list):\n",
    "    tmp_list = []\n",
    "    for elements in range(len(value_list)):\n",
    "        tmp_list.append(value_list[elements][0])\n",
    "    min_value = min(i for i in tmp_list if i > 0)\n",
    "    return min_value"
   ]
  },
  {
   "cell_type": "code",
   "execution_count": null,
   "metadata": {},
   "outputs": [],
   "source": [
    "\n",
    "calc_pos_halite(halite)"
   ]
  },
  {
   "cell_type": "code",
   "execution_count": 54,
   "metadata": {},
   "outputs": [],
   "source": [
    "def mining():\n",
    "    \"\"\"find coordination of best halite storage\"\"\"\n",
    "    #size = config.size\n",
    "    me = board.current_player\n",
    "    ship_states = {}\n",
    "    for ship in me.ships:\n",
    "        pos_halite = get_halite_pos(features[0])\n",
    "        #print(pos_halite)\n",
    "        list_of_halite_pos_and_distance = find_halite(ship,pos_halite)\n",
    "        #print(list_of_halite_pos_and_distance)\n",
    "        best_halite = calc_best_pos_halite(list_of_halite_pos_and_distance)\n",
    "        print(best_halite)\n",
    "        #direction = getDirTo(ship.position, best_halite, size)\n",
    "        #if direction:\n",
    "        #    ship.next_action = direction"
   ]
  },
  {
   "cell_type": "code",
   "execution_count": 55,
   "metadata": {},
   "outputs": [
    {
     "name": "stdout",
     "output_type": "stream",
     "text": [
      "[(5, 1.825, 1, 0), (4, 2.281, 1, 1), (2, 0.837, 1, 3), (4, 2.281, 1, 5), (5, 1.825, 1, 6), (4, 0.664, 2, 0), (3, 0.247, 2, 1), (1, 0.058, 2, 3), (3, 0.247, 2, 5), (4, 0.664, 2, 6), (1, 0.026, 3, 2), (0, 0.058, 3, 3), (1, 0.026, 3, 4), (4, 0.664, 4, 0), (3, 0.247, 4, 1), (1, 0.058, 4, 3), (3, 0.247, 4, 5), (4, 0.664, 4, 6), (5, 1.825, 5, 0), (4, 2.281, 5, 1), (2, 0.837, 5, 3), (4, 2.281, 5, 5), (5, 1.825, 5, 6)]\n",
      "0.026\n",
      "(3, 4)\n"
     ]
    }
   ],
   "source": [
    "mining()"
   ]
  },
  {
   "cell_type": "code",
   "execution_count": null,
   "metadata": {},
   "outputs": [],
   "source": []
  }
 ],
 "metadata": {
  "interpreter": {
   "hash": "48d4e140dbfcd9737798b0e32dde81c8cc39d576065e7a7bad60dbe0e11cbeb3"
  },
  "kernelspec": {
   "display_name": "Python 3.9.9 ('.venv': poetry)",
   "language": "python",
   "name": "python3"
  },
  "language_info": {
   "codemirror_mode": {
    "name": "ipython",
    "version": 3
   },
   "file_extension": ".py",
   "mimetype": "text/x-python",
   "name": "python",
   "nbconvert_exporter": "python",
   "pygments_lexer": "ipython3",
   "version": "3.9.9"
  },
  "orig_nbformat": 4
 },
 "nbformat": 4,
 "nbformat_minor": 2
}
